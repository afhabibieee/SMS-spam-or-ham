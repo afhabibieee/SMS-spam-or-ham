{
  "nbformat": 4,
  "nbformat_minor": 0,
  "metadata": {
    "colab": {
      "name": "sms_spam.ipynb",
      "provenance": [],
      "collapsed_sections": [
        "qrGvXeAVhsxe",
        "maCe7zuIh2_9",
        "FjM8AMliz97y"
      ],
      "authorship_tag": "ABX9TyO5VDk+kEJPPwuv+HwJDBFq",
      "include_colab_link": true
    },
    "kernelspec": {
      "name": "python3",
      "display_name": "Python 3"
    },
    "language_info": {
      "name": "python"
    }
  },
  "cells": [
    {
      "cell_type": "markdown",
      "metadata": {
        "id": "view-in-github",
        "colab_type": "text"
      },
      "source": [
        "<a href=\"https://colab.research.google.com/github/afhabibieee/SMS-spam-or-ham/blob/main/sms_spam.ipynb\" target=\"_parent\"><img src=\"https://colab.research.google.com/assets/colab-badge.svg\" alt=\"Open In Colab\"/></a>"
      ]
    },
    {
      "cell_type": "markdown",
      "source": [
        "## Installing Libraries"
      ],
      "metadata": {
        "id": "qrGvXeAVhsxe"
      }
    },
    {
      "cell_type": "code",
      "source": [
        "# Download All Dependencies\n",
        "!pip install -q kaggle\n",
        "\n",
        "# updating (server 1.5.12 / client 1.5.4)\n",
        "!pip install --upgrade --force-reinstall --no-deps kaggle"
      ],
      "metadata": {
        "id": "hN9WMuv_KWj9",
        "colab": {
          "base_uri": "https://localhost:8080/"
        },
        "outputId": "810e3c15-6180-4c0a-835b-b3bb3dd73da1"
      },
      "execution_count": null,
      "outputs": [
        {
          "output_type": "stream",
          "name": "stdout",
          "text": [
            "Collecting kaggle\n",
            "  Downloading kaggle-1.5.12.tar.gz (58 kB)\n",
            "\u001b[?25l\r\u001b[K     |█████▋                          | 10 kB 30.6 MB/s eta 0:00:01\r\u001b[K     |███████████▏                    | 20 kB 17.5 MB/s eta 0:00:01\r\u001b[K     |████████████████▊               | 30 kB 14.4 MB/s eta 0:00:01\r\u001b[K     |██████████████████████▎         | 40 kB 13.2 MB/s eta 0:00:01\r\u001b[K     |███████████████████████████▉    | 51 kB 7.5 MB/s eta 0:00:01\r\u001b[K     |████████████████████████████████| 58 kB 4.1 MB/s \n",
            "\u001b[?25hBuilding wheels for collected packages: kaggle\n",
            "  Building wheel for kaggle (setup.py) ... \u001b[?25l\u001b[?25hdone\n",
            "  Created wheel for kaggle: filename=kaggle-1.5.12-py3-none-any.whl size=73051 sha256=714a675d9aba30efcc13ab7996432283b157db5c1a6ba0e705e2257cb76c2885\n",
            "  Stored in directory: /root/.cache/pip/wheels/62/d6/58/5853130f941e75b2177d281eb7e44b4a98ed46dd155f556dc5\n",
            "Successfully built kaggle\n",
            "Installing collected packages: kaggle\n",
            "  Attempting uninstall: kaggle\n",
            "    Found existing installation: kaggle 1.5.12\n",
            "    Uninstalling kaggle-1.5.12:\n",
            "      Successfully uninstalled kaggle-1.5.12\n",
            "Successfully installed kaggle-1.5.12\n"
          ]
        }
      ]
    },
    {
      "cell_type": "markdown",
      "source": [
        "## Data Collection"
      ],
      "metadata": {
        "id": "maCe7zuIh2_9"
      }
    },
    {
      "cell_type": "code",
      "source": [
        "# Upload API Files from Kaggle\n",
        "from google.colab import files\n",
        "files.upload()"
      ],
      "metadata": {
        "id": "iHEcymdp6-L-"
      },
      "execution_count": null,
      "outputs": []
    },
    {
      "cell_type": "code",
      "source": [
        "# Connect Collab to Kaggle\n",
        "!mkdir -p ~/.kaggle\n",
        "!cp kaggle.json ~/.kaggle/\n",
        "!ls ~/.kaggle\n",
        "!chmod 600 /root/.kaggle/kaggle.json"
      ],
      "metadata": {
        "colab": {
          "base_uri": "https://localhost:8080/"
        },
        "id": "cCGiPd8g7EW3",
        "outputId": "c8eedd3d-f4bd-44e8-8c56-0cba5d3590b6"
      },
      "execution_count": null,
      "outputs": [
        {
          "output_type": "stream",
          "name": "stdout",
          "text": [
            "kaggle.json\n"
          ]
        }
      ]
    },
    {
      "cell_type": "code",
      "source": [
        "# Searching spam datasets\n",
        "! kaggle datasets list -s spam"
      ],
      "metadata": {
        "colab": {
          "base_uri": "https://localhost:8080/"
        },
        "id": "o_DDR81XcZXV",
        "outputId": "038da399-ec49-4c58-b49c-bd1efd03eea9"
      },
      "execution_count": null,
      "outputs": [
        {
          "output_type": "stream",
          "name": "stdout",
          "text": [
            "ref                                                  title                                     size  lastUpdated          downloadCount  voteCount  usabilityRating  \n",
            "---------------------------------------------------  ---------------------------------------  -----  -------------------  -------------  ---------  ---------------  \n",
            "veleon/ham-and-spam-dataset                          Email Spam                                12MB  2019-01-20 16:43:20           5025        109  0.75             \n",
            "uciml/sms-spam-collection-dataset                    SMS Spam Collection Dataset              211KB  2016-12-02 19:29:17          87047        942  0.7352941        \n",
            "ozlerhakan/spam-or-not-spam-dataset                  Spam or Not Spam Dataset                   1MB  2018-12-14 18:32:01           3896         34  0.88235295       \n",
            "venky73/spam-mails-dataset                           Spam Mails Dataset                         2MB  2019-01-23 13:44:37           8607         60  0.7941176        \n",
            "team-ai/spam-text-message-classification             Spam Text Message Classification         208KB  2017-08-20 06:32:31           7673         94  0.8235294        \n",
            "balaka18/email-spam-classification-dataset-csv       Email Spam Classification Dataset CSV      2MB  2020-03-10 05:08:13           7175         86  0.9117647        \n",
            "rtatman/deceptive-opinion-spam-corpus                Deceptive Opinion Spam Corpus            456KB  2017-07-18 16:31:06           3560         55  0.8235294        \n",
            "therohk/examine-the-examiner                         The Examiner - Spam Clickbait Catalog     76MB  2021-04-07 19:28:55           2162         52  1.0              \n",
            "mfaisalqureshi/spam-email                            Spam Email                               207KB  2021-06-21 08:16:42            364         13  0.7647059        \n",
            "karthickveerakumar/spam-filter                       Spam filter                                3MB  2017-07-14 09:29:12           6692         32  0.47058824       \n",
            "free4ever1/instagram-fake-spammer-genuine-accounts   Instagram fake spammer genuine accounts    7KB  2019-03-22 15:12:51           3123         72  0.88235295       \n",
            "somesh24/spambase                                    Spam Email Classification                127KB  2020-07-09 19:16:38            995         14  0.9411765        \n",
            "nitishabharathi/email-spam-dataset                   Email Spam Dataset                        17MB  2020-10-30 04:22:42           1164         15  0.8235294        \n",
            "shivamb/spam-url-prediction                          Spam URLs Classification Dataset           3MB  2021-12-13 14:49:54            227         25  1.0              \n",
            "wanderfj/enron-spam                                  Enron-Spam dataset                        29MB  2019-11-22 22:29:56            544         14  0.875            \n",
            "shravan3273/sms-spam                                 Sms spam                                 207KB  2018-02-27 05:42:28            875          9  0.4117647        \n",
            "mandygu/lingspam-dataset                             Ling-Spam Dataset                          3MB  2019-11-15 16:11:02            642         10  0.88235295       \n",
            "chandramoulinaidu/spam-classification-for-basic-nlp  Spam Classification for Basic NLP          6MB  2021-03-08 17:14:47            542          9  1.0              \n",
            "fournierp/captcha-version-2-images                   CAPTCHA Images                            17MB  2019-02-27 03:04:17           8847        241  0.875            \n",
            "lakshmi25npathi/images                               YouTube Spam Collection Data Set         318KB  2019-03-18 06:09:33            559         12  0.64705884       \n"
          ]
        }
      ]
    },
    {
      "cell_type": "code",
      "source": [
        "# download dataset sms-spam from shravan3273\n",
        "!kaggle datasets download \"shravan3273/sms-spam\""
      ],
      "metadata": {
        "colab": {
          "base_uri": "https://localhost:8080/"
        },
        "id": "mFaZ6C0ohCxL",
        "outputId": "ff59439d-c7fb-44e7-bed8-8342563d86b0"
      },
      "execution_count": null,
      "outputs": [
        {
          "output_type": "stream",
          "name": "stdout",
          "text": [
            "Downloading sms-spam.zip to /content\n",
            "\r  0% 0.00/207k [00:00<?, ?B/s]\n",
            "\r100% 207k/207k [00:00<00:00, 7.88MB/s]\n"
          ]
        }
      ]
    },
    {
      "cell_type": "code",
      "source": [
        "# unzip spam dataset\n",
        "!unzip sms-spam.zip"
      ],
      "metadata": {
        "colab": {
          "base_uri": "https://localhost:8080/"
        },
        "id": "mWTkoEpRjawE",
        "outputId": "acec86c5-aba8-482a-b9c3-1ef439a071d7"
      },
      "execution_count": null,
      "outputs": [
        {
          "output_type": "stream",
          "name": "stdout",
          "text": [
            "Archive:  sms-spam.zip\n",
            "  inflating: spamraw.csv             \n"
          ]
        }
      ]
    },
    {
      "cell_type": "markdown",
      "source": [
        "## Data Preprocessing"
      ],
      "metadata": {
        "id": "FjM8AMliz97y"
      }
    },
    {
      "cell_type": "code",
      "source": [
        "# create pandas dataframe\n",
        "import pandas as pd\n",
        "data = pd.read_csv('spamraw.csv')\n",
        "data"
      ],
      "metadata": {
        "colab": {
          "base_uri": "https://localhost:8080/",
          "height": 423
        },
        "id": "sDXosvXYjruF",
        "outputId": "efb8e484-91cf-4554-d841-5094920c40a2"
      },
      "execution_count": null,
      "outputs": [
        {
          "output_type": "execute_result",
          "data": {
            "text/html": [
              "\n",
              "  <div id=\"df-785aaf19-4174-451a-bfec-07d0a25da2c5\">\n",
              "    <div class=\"colab-df-container\">\n",
              "      <div>\n",
              "<style scoped>\n",
              "    .dataframe tbody tr th:only-of-type {\n",
              "        vertical-align: middle;\n",
              "    }\n",
              "\n",
              "    .dataframe tbody tr th {\n",
              "        vertical-align: top;\n",
              "    }\n",
              "\n",
              "    .dataframe thead th {\n",
              "        text-align: right;\n",
              "    }\n",
              "</style>\n",
              "<table border=\"1\" class=\"dataframe\">\n",
              "  <thead>\n",
              "    <tr style=\"text-align: right;\">\n",
              "      <th></th>\n",
              "      <th>type</th>\n",
              "      <th>text</th>\n",
              "    </tr>\n",
              "  </thead>\n",
              "  <tbody>\n",
              "    <tr>\n",
              "      <th>0</th>\n",
              "      <td>ham</td>\n",
              "      <td>Hope you are having a good week. Just checking in</td>\n",
              "    </tr>\n",
              "    <tr>\n",
              "      <th>1</th>\n",
              "      <td>ham</td>\n",
              "      <td>K..give back my thanks.</td>\n",
              "    </tr>\n",
              "    <tr>\n",
              "      <th>2</th>\n",
              "      <td>ham</td>\n",
              "      <td>Am also doing in cbe only. But have to pay.</td>\n",
              "    </tr>\n",
              "    <tr>\n",
              "      <th>3</th>\n",
              "      <td>spam</td>\n",
              "      <td>complimentary 4 STAR Ibiza Holiday or £10,000 ...</td>\n",
              "    </tr>\n",
              "    <tr>\n",
              "      <th>4</th>\n",
              "      <td>spam</td>\n",
              "      <td>okmail: Dear Dave this is your final notice to...</td>\n",
              "    </tr>\n",
              "    <tr>\n",
              "      <th>...</th>\n",
              "      <td>...</td>\n",
              "      <td>...</td>\n",
              "    </tr>\n",
              "    <tr>\n",
              "      <th>5554</th>\n",
              "      <td>ham</td>\n",
              "      <td>You are a great role model. You are giving so ...</td>\n",
              "    </tr>\n",
              "    <tr>\n",
              "      <th>5555</th>\n",
              "      <td>ham</td>\n",
              "      <td>Awesome, I remember the last time we got someb...</td>\n",
              "    </tr>\n",
              "    <tr>\n",
              "      <th>5556</th>\n",
              "      <td>spam</td>\n",
              "      <td>If you don't, your prize will go to another cu...</td>\n",
              "    </tr>\n",
              "    <tr>\n",
              "      <th>5557</th>\n",
              "      <td>spam</td>\n",
              "      <td>SMS. ac JSco: Energy is high, but u may not kn...</td>\n",
              "    </tr>\n",
              "    <tr>\n",
              "      <th>5558</th>\n",
              "      <td>ham</td>\n",
              "      <td>Shall call now dear having food</td>\n",
              "    </tr>\n",
              "  </tbody>\n",
              "</table>\n",
              "<p>5559 rows × 2 columns</p>\n",
              "</div>\n",
              "      <button class=\"colab-df-convert\" onclick=\"convertToInteractive('df-785aaf19-4174-451a-bfec-07d0a25da2c5')\"\n",
              "              title=\"Convert this dataframe to an interactive table.\"\n",
              "              style=\"display:none;\">\n",
              "        \n",
              "  <svg xmlns=\"http://www.w3.org/2000/svg\" height=\"24px\"viewBox=\"0 0 24 24\"\n",
              "       width=\"24px\">\n",
              "    <path d=\"M0 0h24v24H0V0z\" fill=\"none\"/>\n",
              "    <path d=\"M18.56 5.44l.94 2.06.94-2.06 2.06-.94-2.06-.94-.94-2.06-.94 2.06-2.06.94zm-11 1L8.5 8.5l.94-2.06 2.06-.94-2.06-.94L8.5 2.5l-.94 2.06-2.06.94zm10 10l.94 2.06.94-2.06 2.06-.94-2.06-.94-.94-2.06-.94 2.06-2.06.94z\"/><path d=\"M17.41 7.96l-1.37-1.37c-.4-.4-.92-.59-1.43-.59-.52 0-1.04.2-1.43.59L10.3 9.45l-7.72 7.72c-.78.78-.78 2.05 0 2.83L4 21.41c.39.39.9.59 1.41.59.51 0 1.02-.2 1.41-.59l7.78-7.78 2.81-2.81c.8-.78.8-2.07 0-2.86zM5.41 20L4 18.59l7.72-7.72 1.47 1.35L5.41 20z\"/>\n",
              "  </svg>\n",
              "      </button>\n",
              "      \n",
              "  <style>\n",
              "    .colab-df-container {\n",
              "      display:flex;\n",
              "      flex-wrap:wrap;\n",
              "      gap: 12px;\n",
              "    }\n",
              "\n",
              "    .colab-df-convert {\n",
              "      background-color: #E8F0FE;\n",
              "      border: none;\n",
              "      border-radius: 50%;\n",
              "      cursor: pointer;\n",
              "      display: none;\n",
              "      fill: #1967D2;\n",
              "      height: 32px;\n",
              "      padding: 0 0 0 0;\n",
              "      width: 32px;\n",
              "    }\n",
              "\n",
              "    .colab-df-convert:hover {\n",
              "      background-color: #E2EBFA;\n",
              "      box-shadow: 0px 1px 2px rgba(60, 64, 67, 0.3), 0px 1px 3px 1px rgba(60, 64, 67, 0.15);\n",
              "      fill: #174EA6;\n",
              "    }\n",
              "\n",
              "    [theme=dark] .colab-df-convert {\n",
              "      background-color: #3B4455;\n",
              "      fill: #D2E3FC;\n",
              "    }\n",
              "\n",
              "    [theme=dark] .colab-df-convert:hover {\n",
              "      background-color: #434B5C;\n",
              "      box-shadow: 0px 1px 3px 1px rgba(0, 0, 0, 0.15);\n",
              "      filter: drop-shadow(0px 1px 2px rgba(0, 0, 0, 0.3));\n",
              "      fill: #FFFFFF;\n",
              "    }\n",
              "  </style>\n",
              "\n",
              "      <script>\n",
              "        const buttonEl =\n",
              "          document.querySelector('#df-785aaf19-4174-451a-bfec-07d0a25da2c5 button.colab-df-convert');\n",
              "        buttonEl.style.display =\n",
              "          google.colab.kernel.accessAllowed ? 'block' : 'none';\n",
              "\n",
              "        async function convertToInteractive(key) {\n",
              "          const element = document.querySelector('#df-785aaf19-4174-451a-bfec-07d0a25da2c5');\n",
              "          const dataTable =\n",
              "            await google.colab.kernel.invokeFunction('convertToInteractive',\n",
              "                                                     [key], {});\n",
              "          if (!dataTable) return;\n",
              "\n",
              "          const docLinkHtml = 'Like what you see? Visit the ' +\n",
              "            '<a target=\"_blank\" href=https://colab.research.google.com/notebooks/data_table.ipynb>data table notebook</a>'\n",
              "            + ' to learn more about interactive tables.';\n",
              "          element.innerHTML = '';\n",
              "          dataTable['output_type'] = 'display_data';\n",
              "          await google.colab.output.renderOutput(dataTable, element);\n",
              "          const docLink = document.createElement('div');\n",
              "          docLink.innerHTML = docLinkHtml;\n",
              "          element.appendChild(docLink);\n",
              "        }\n",
              "      </script>\n",
              "    </div>\n",
              "  </div>\n",
              "  "
            ],
            "text/plain": [
              "      type                                               text\n",
              "0      ham  Hope you are having a good week. Just checking in\n",
              "1      ham                            K..give back my thanks.\n",
              "2      ham        Am also doing in cbe only. But have to pay.\n",
              "3     spam  complimentary 4 STAR Ibiza Holiday or £10,000 ...\n",
              "4     spam  okmail: Dear Dave this is your final notice to...\n",
              "...    ...                                                ...\n",
              "5554   ham  You are a great role model. You are giving so ...\n",
              "5555   ham  Awesome, I remember the last time we got someb...\n",
              "5556  spam  If you don't, your prize will go to another cu...\n",
              "5557  spam  SMS. ac JSco: Energy is high, but u may not kn...\n",
              "5558   ham                    Shall call now dear having food\n",
              "\n",
              "[5559 rows x 2 columns]"
            ]
          },
          "metadata": {},
          "execution_count": 239
        }
      ]
    },
    {
      "cell_type": "code",
      "source": [
        "import matplotlib.pyplot as plt\n",
        "plt.bar(\n",
        "    ['ham', 'spam'],\n",
        "    data['type'].value_counts()\n",
        ")\n",
        "plt.show()"
      ],
      "metadata": {
        "id": "T2bLPZOnkpwJ",
        "colab": {
          "base_uri": "https://localhost:8080/",
          "height": 266
        },
        "outputId": "3a6c7ce8-3e8e-4c01-d300-783b8b6ab260"
      },
      "execution_count": null,
      "outputs": [
        {
          "output_type": "display_data",
          "data": {
            "image/png": "[encoded data removed]",
            "text/plain": [
              "<Figure size 432x288 with 1 Axes>"
            ]
          },
          "metadata": {
            "needs_background": "light"
          }
        }
      ]
    },
    {
      "cell_type": "code",
      "source": [
        "data['type'].value_counts(normalize = True)"
      ],
      "metadata": {
        "colab": {
          "base_uri": "https://localhost:8080/"
        },
        "id": "eOavDycy8eEZ",
        "outputId": "6bdb2739-c104-427e-a896-3b79ad5a396c"
      },
      "execution_count": null,
      "outputs": [
        {
          "output_type": "execute_result",
          "data": {
            "text/plain": [
              "ham     0.865623\n",
              "spam    0.134377\n",
              "Name: type, dtype: float64"
            ]
          },
          "metadata": {},
          "execution_count": 104
        }
      ]
    },
    {
      "cell_type": "markdown",
      "source": [
        "> As we can see that the data isn't balanced.\n",
        "\n",
        "> There are 86% of the total data is ham. From this article ([How I handled imbalanced text data](https://towardsdatascience.com/how-i-handled-imbalanced-text-data-ba9b757ab1d8#:~:text=The%20simplest%20way%20to%20fix,synthetic%20instances%20from%20minority%20class.)) it says that accuracy is a sham in case of unbalanced data sets.\n",
        "\n",
        "> So I decided to oversampling or undersampling this data using training data (using training data to avoid data leakage)."
      ],
      "metadata": {
        "id": "hI5BbCgosZzX"
      }
    },
    {
      "cell_type": "code",
      "source": [
        "# feature and target\n",
        "X = data['text'].values\n",
        "y = data['type'].values"
      ],
      "metadata": {
        "id": "MuA3ScajpDhy"
      },
      "execution_count": null,
      "outputs": []
    },
    {
      "cell_type": "code",
      "source": [
        "# split data training and testing\n",
        "from sklearn.model_selection import train_test_split\n",
        "\n",
        "X_train, X_test, y_train, y_test = train_test_split(X, y, test_size=0.2)"
      ],
      "metadata": {
        "id": "w8OMy_eRwPUH"
      },
      "execution_count": null,
      "outputs": []
    },
    {
      "cell_type": "code",
      "source": [
        "# Tokenizing, sequencing and padding\n",
        "from tensorflow.keras.preprocessing.text import Tokenizer\n",
        "from tensorflow.keras.preprocessing.sequence import pad_sequences\n",
        "\n",
        "tokenizer = Tokenizer(5000)\n",
        "tokenizer.fit_on_texts(X_train)\n",
        "tokenizer.fit_on_texts(X_test)\n",
        "\n",
        "sequences_train = tokenizer.texts_to_sequences(X_train)\n",
        "sequences_test = tokenizer.texts_to_sequences(X_test)\n",
        "\n",
        "padded_train = pad_sequences(sequences_train)\n",
        "padded_test = pad_sequences(sequences_test)"
      ],
      "metadata": {
        "id": "iOL0-7pJw-wt"
      },
      "execution_count": null,
      "outputs": []
    },
    {
      "cell_type": "code",
      "source": [
        "# Oversampling\n",
        "import numpy as np\n",
        "from imblearn.over_sampling import RandomOverSampler\n",
        "\n",
        "ros = RandomOverSampler()\n",
        "X_ros, y_ros = ros.fit_resample(padded_train, y_train)\n",
        "\n",
        "# distribution of data after resampling\n",
        "np.unique(y_ros, return_counts=True)"
      ],
      "metadata": {
        "colab": {
          "base_uri": "https://localhost:8080/"
        },
        "id": "WAIcEKRUzrzv",
        "outputId": "0956f1f6-ba65-4579-d7cf-c2c548f25735"
      },
      "execution_count": null,
      "outputs": [
        {
          "output_type": "execute_result",
          "data": {
            "text/plain": [
              "(array(['ham', 'spam'], dtype=object), array([3860, 3860]))"
            ]
          },
          "metadata": {},
          "execution_count": 108
        }
      ]
    },
    {
      "cell_type": "markdown",
      "source": [
        "Now, the data for the two classes is balanced"
      ],
      "metadata": {
        "id": "As-kmxjq2cJX"
      }
    },
    {
      "cell_type": "code",
      "source": [
        "# Undersampling\n",
        "from imblearn.under_sampling import RandomUnderSampler\n",
        "\n",
        "rus = RandomUnderSampler()\n",
        "X_rus, y_rus = rus.fit_resample(padded_train, y_train)\n",
        "\n",
        "# distribution of data after resampling\n",
        "np.unique(y_rus, return_counts=True)"
      ],
      "metadata": {
        "colab": {
          "base_uri": "https://localhost:8080/"
        },
        "id": "XtqCbY_e16J1",
        "outputId": "072d41a3-69de-4ef5-d329-fffd3b151338"
      },
      "execution_count": null,
      "outputs": [
        {
          "output_type": "execute_result",
          "data": {
            "text/plain": [
              "(array(['ham', 'spam'], dtype=object), array([587, 587]))"
            ]
          },
          "metadata": {},
          "execution_count": 110
        }
      ]
    },
    {
      "cell_type": "markdown",
      "source": [
        "This data when undersampling is certainly less. but let's see the result once it is fed to the model."
      ],
      "metadata": {
        "id": "PN6Y82vG3ckW"
      }
    },
    {
      "cell_type": "code",
      "source": [
        "# one-hot coding on each re-sampled data target\n",
        "\n",
        "# at target oversampled\n",
        "y_ros = pd.get_dummies(y_ros).values\n",
        "\n",
        "# at target undersampled\n",
        "y_rus = pd.get_dummies(y_rus).values"
      ],
      "metadata": {
        "id": "CRbwqe8l497E"
      },
      "execution_count": null,
      "outputs": []
    },
    {
      "cell_type": "code",
      "source": [
        "# one-hot coding on test/validate data target\n",
        "y_test = pd.get_dummies(y_test).values"
      ],
      "metadata": {
        "id": "pW4Q_JmcIWVp"
      },
      "execution_count": null,
      "outputs": []
    },
    {
      "cell_type": "markdown",
      "source": [
        "## Modeling"
      ],
      "metadata": {
        "id": "DNJW0qGG4Jic"
      }
    },
    {
      "cell_type": "code",
      "source": [
        "# import required libraries/modules\n",
        "from tensorflow.keras.models import Sequential\n",
        "from tensorflow.keras.layers import Embedding, LSTM, Dense"
      ],
      "metadata": {
        "id": "96Rvzvae9x6y"
      },
      "execution_count": null,
      "outputs": []
    },
    {
      "cell_type": "code",
      "source": [
        "input_dim = padded_train.max() + 1\n",
        "input_dim"
      ],
      "metadata": {
        "colab": {
          "base_uri": "https://localhost:8080/"
        },
        "id": "tH998OdE-XS0",
        "outputId": "3dee7369-e034-4f95-aad2-694668b22543"
      },
      "execution_count": null,
      "outputs": [
        {
          "output_type": "execute_result",
          "data": {
            "text/plain": [
              "5000"
            ]
          },
          "metadata": {},
          "execution_count": 227
        }
      ]
    },
    {
      "cell_type": "code",
      "source": [
        "# build archi model\n",
        "def model():\n",
        "  m = Sequential([\n",
        "                  Embedding(input_dim=input_dim, output_dim=16),\n",
        "                  LSTM(64),\n",
        "                  Dense(128, activation='relu'),\n",
        "                  Dense(64, activation='relu'),\n",
        "                  Dense(2, activation='softmax')\n",
        "  ])\n",
        "  \n",
        "  # compile model\n",
        "  m.compile(\n",
        "      loss='categorical_crossentropy',\n",
        "      optimizer='adam',\n",
        "      metrics=['accuracy']\n",
        "  )\n",
        "\n",
        "  return m"
      ],
      "metadata": {
        "id": "casa83Ue3UB0"
      },
      "execution_count": null,
      "outputs": []
    },
    {
      "cell_type": "markdown",
      "source": [
        "### Train the model with the OVER-SAMPLED training data"
      ],
      "metadata": {
        "id": "wKx6NVLwAyH7"
      }
    },
    {
      "cell_type": "code",
      "source": [
        "## add callback when model is trained\n",
        "#from tensorflow.keras.callbacks import Callback\n",
        "#\n",
        "#class myCallback(Callback):\n",
        "#  def on_epoch_end(self, epoch, logs={}):\n",
        "#    if(logs.get('val_accuracy')>0.98):\n",
        "#      print(\"\\nAccuracy on validation data is more than 99% has been met\")\n",
        "#      self.model.stop_training = True\n",
        "#callbacks = myCallback()"
      ],
      "metadata": {
        "id": "EDGkAqBV_Mm9"
      },
      "execution_count": null,
      "outputs": []
    },
    {
      "cell_type": "code",
      "source": [
        "\"\"\"\n",
        "  Instead of using a stop callback at a certain threshold (from the cell above), \n",
        "  I prefer to use early stopping because the training accuracy and validation \n",
        "  are already very high (overfitting prevention)\n",
        "\"\"\"\n",
        "from tensorflow.keras.callbacks import EarlyStopping\n",
        "\n",
        "early_stopping = EarlyStopping(\n",
        "    monitor='val_accuracy',\n",
        "    patience=1\n",
        ")"
      ],
      "metadata": {
        "id": "mQIwaYi_KN6K"
      },
      "execution_count": null,
      "outputs": []
    },
    {
      "cell_type": "code",
      "source": [
        "model_ros = model()\n",
        "num_epochs = 10\n",
        "\n",
        "history_ros = model_ros.fit(\n",
        "    X_ros, y_ros, \n",
        "    validation_data=(padded_test, y_test),\n",
        "    epochs=num_epochs,\n",
        "    verbose=2,\n",
        "    callbacks=[early_stopping],\n",
        "    use_multiprocessing=True\n",
        ")"
      ],
      "metadata": {
        "colab": {
          "base_uri": "https://localhost:8080/"
        },
        "id": "m5PfFdsDAgAq",
        "outputId": "3d94c7c7-52e2-4d0b-da1e-f0cce764a411"
      },
      "execution_count": null,
      "outputs": [
        {
          "output_type": "stream",
          "name": "stdout",
          "text": [
            "Epoch 1/10\n",
            "242/242 - 24s - loss: 0.1338 - accuracy: 0.9526 - val_loss: 0.0619 - val_accuracy: 0.9838 - 24s/epoch - 98ms/step\n",
            "Epoch 2/10\n",
            "242/242 - 21s - loss: 0.0032 - accuracy: 0.9990 - val_loss: 0.1227 - val_accuracy: 0.9847 - 21s/epoch - 88ms/step\n",
            "Epoch 3/10\n",
            "242/242 - 21s - loss: 0.0021 - accuracy: 0.9996 - val_loss: 0.0847 - val_accuracy: 0.9865 - 21s/epoch - 88ms/step\n",
            "Epoch 4/10\n",
            "242/242 - 21s - loss: 2.7526e-04 - accuracy: 1.0000 - val_loss: 0.1134 - val_accuracy: 0.9838 - 21s/epoch - 88ms/step\n"
          ]
        }
      ]
    },
    {
      "cell_type": "code",
      "source": [
        "# ploting accuracy and loss\n",
        "\n",
        "fig, axs = plt.subplots(1, 2, figsize=(12,5))\n",
        "fig.suptitle('WITH OVERSAMPLED TRAIN DATA')\n",
        "axs[0].plot(history_ros.history['accuracy'], label='train accuracy')\n",
        "axs[0].plot(history_ros.history['val_accuracy'], label='val accuracy')\n",
        "axs[0].set_ylabel('Accuracy')\n",
        "axs[0].set_xlabel('Epochs')\n",
        "axs[1].plot(history_ros.history['loss'], label='train loss')\n",
        "axs[1].plot(history_ros.history['val_loss'], label='val loss')\n",
        "axs[1].set_ylabel('Loss')\n",
        "axs[1].set_xlabel('Epochs')\n",
        "axs[0].legend()\n",
        "axs[1].legend()\n",
        "fig.show()"
      ],
      "metadata": {
        "colab": {
          "base_uri": "https://localhost:8080/",
          "height": 370
        },
        "id": "zyZLAD2ZVCwu",
        "outputId": "6bb61284-f787-4614-aa29-a69d349166a3"
      },
      "execution_count": null,
      "outputs": [
        {
          "output_type": "display_data",
          "data": {
            "image/png": "[encoded data removed]",
            "text/plain": [
              "<Figure size 864x360 with 2 Axes>"
            ]
          },
          "metadata": {
            "needs_background": "light"
          }
        }
      ]
    },
    {
      "cell_type": "code",
      "source": [
        "# test data evaluation\n",
        "\n",
        "from sklearn.metrics import classification_report\n",
        "from sklearn.metrics import confusion_matrix\n",
        "\n",
        "y_pred = model_ros.predict(padded_test)\n",
        "print(classification_report(\n",
        "    np.argmax(y_test, axis=1),\n",
        "    np.argmax(y_pred, axis=1)\n",
        "))\n",
        "\n",
        "print('\\n')\n",
        "\n",
        "print(confusion_matrix(\n",
        "    np.argmax(y_test, axis=1),\n",
        "    np.argmax(y_pred, axis=1)\n",
        "))"
      ],
      "metadata": {
        "colab": {
          "base_uri": "https://localhost:8080/"
        },
        "id": "KBHbBZVCMbU1",
        "outputId": "e26cb8f6-4299-4445-af25-67731a1e4829"
      },
      "execution_count": null,
      "outputs": [
        {
          "output_type": "stream",
          "name": "stdout",
          "text": [
            "              precision    recall  f1-score   support\n",
            "\n",
            "           0       0.98      1.00      0.99       952\n",
            "           1       0.98      0.91      0.94       160\n",
            "\n",
            "    accuracy                           0.98      1112\n",
            "   macro avg       0.98      0.95      0.97      1112\n",
            "weighted avg       0.98      0.98      0.98      1112\n",
            "\n",
            "\n",
            "\n",
            "[[949   3]\n",
            " [ 15 145]]\n"
          ]
        }
      ]
    },
    {
      "cell_type": "markdown",
      "source": [
        "### Train the model with the UNDER-SAMPLED training data"
      ],
      "metadata": {
        "id": "A-8BA8-7Qvpb"
      }
    },
    {
      "cell_type": "code",
      "source": [
        "model_rus = model()\n",
        "num_epochs = 10\n",
        "\n",
        "history_rus = model_rus.fit(\n",
        "    X_rus, y_rus, \n",
        "    validation_data=(padded_test, y_test),\n",
        "    epochs=num_epochs,\n",
        "    verbose=2,\n",
        "    callbacks=[early_stopping],\n",
        "    use_multiprocessing=True\n",
        ")"
      ],
      "metadata": {
        "colab": {
          "base_uri": "https://localhost:8080/"
        },
        "id": "KuRYCXwsPog5",
        "outputId": "3bd7c66c-8764-465b-a292-8a76cff6ba84"
      },
      "execution_count": null,
      "outputs": [
        {
          "output_type": "stream",
          "name": "stdout",
          "text": [
            "Epoch 1/10\n",
            "37/37 - 6s - loss: 0.5635 - accuracy: 0.7853 - val_loss: 0.4037 - val_accuracy: 0.8183 - 6s/epoch - 157ms/step\n",
            "Epoch 2/10\n",
            "37/37 - 3s - loss: 0.1709 - accuracy: 0.9446 - val_loss: 0.0917 - val_accuracy: 0.9802 - 3s/epoch - 94ms/step\n",
            "Epoch 3/10\n",
            "37/37 - 3s - loss: 0.0572 - accuracy: 0.9813 - val_loss: 0.0553 - val_accuracy: 0.9829 - 3s/epoch - 94ms/step\n",
            "Epoch 4/10\n",
            "37/37 - 3s - loss: 0.0262 - accuracy: 0.9932 - val_loss: 0.1128 - val_accuracy: 0.9631 - 3s/epoch - 94ms/step\n"
          ]
        }
      ]
    },
    {
      "cell_type": "code",
      "source": [
        "# ploting accuracy and loss\n",
        "\n",
        "fig, axs = plt.subplots(1, 2, figsize=(12,5))\n",
        "fig.suptitle('WITH UNDERSAMPLED TRAIN DATA')\n",
        "axs[0].plot(history_rus.history['accuracy'], label='train accuracy')\n",
        "axs[0].plot(history_rus.history['val_accuracy'], label='val accuracy')\n",
        "axs[0].set_ylabel('Accuracy')\n",
        "axs[0].set_xlabel('Epochs')\n",
        "axs[1].plot(history_rus.history['loss'], label='train loss')\n",
        "axs[1].plot(history_rus.history['val_loss'], label='val loss')\n",
        "axs[1].set_ylabel('Loss')\n",
        "axs[1].set_xlabel('Epochs')\n",
        "axs[0].legend()\n",
        "axs[1].legend()\n",
        "fig.show()"
      ],
      "metadata": {
        "colab": {
          "base_uri": "https://localhost:8080/",
          "height": 370
        },
        "id": "wmvReMZ6UhpY",
        "outputId": "27d756b9-f480-4b42-9e84-0e4c3c3b3fd1"
      },
      "execution_count": null,
      "outputs": [
        {
          "output_type": "display_data",
          "data": {
            "image/png": "[encoded data removed]",
            "text/plain": [
              "<Figure size 864x360 with 2 Axes>"
            ]
          },
          "metadata": {
            "needs_background": "light"
          }
        }
      ]
    },
    {
      "cell_type": "code",
      "source": [
        "# test data evaluation\n",
        "\n",
        "from sklearn.metrics import classification_report\n",
        "from sklearn.metrics import confusion_matrix\n",
        "\n",
        "y_pred = model_rus.predict(padded_test)\n",
        "print(classification_report(\n",
        "    np.argmax(y_test, axis=1),\n",
        "    np.argmax(y_pred, axis=1)\n",
        "))\n",
        "\n",
        "print('\\n')\n",
        "\n",
        "print(confusion_matrix(\n",
        "    np.argmax(y_test, axis=1),\n",
        "    np.argmax(y_pred, axis=1)\n",
        "))"
      ],
      "metadata": {
        "colab": {
          "base_uri": "https://localhost:8080/"
        },
        "id": "j3QV7R2yY5ZF",
        "outputId": "db4bb77c-fcaa-400b-ad6f-e9aa1ac30e56"
      },
      "execution_count": null,
      "outputs": [
        {
          "output_type": "stream",
          "name": "stdout",
          "text": [
            "              precision    recall  f1-score   support\n",
            "\n",
            "           0       0.99      0.96      0.98       952\n",
            "           1       0.81      0.96      0.88       160\n",
            "\n",
            "    accuracy                           0.96      1112\n",
            "   macro avg       0.90      0.96      0.93      1112\n",
            "weighted avg       0.97      0.96      0.96      1112\n",
            "\n",
            "\n",
            "\n",
            "[[917  35]\n",
            " [  6 154]]\n"
          ]
        }
      ]
    }
  ]
}